{
  "metadata": {
    "kernelspec": {
      "language": "python",
      "display_name": "Python 3",
      "name": "python3"
    },
    "language_info": {
      "name": "python",
      "version": "3.10.12",
      "mimetype": "text/x-python",
      "codemirror_mode": {
        "name": "ipython",
        "version": 3
      },
      "pygments_lexer": "ipython3",
      "nbconvert_exporter": "python",
      "file_extension": ".py"
    },
    "kaggle": {
      "accelerator": "gpu",
      "dataSources": [
        {
          "sourceId": 11217787,
          "sourceType": "datasetVersion",
          "datasetId": 7005310
        }
      ],
      "isInternetEnabled": true,
      "language": "python",
      "sourceType": "notebook",
      "isGpuEnabled": true
    },
    "colab": {
      "provenance": []
    }
  },
  "nbformat_minor": 0,
  "nbformat": 4,
  "cells": [
    {
      "cell_type": "markdown",
      "source": [
        "# **Import Libraries**"
      ],
      "metadata": {
        "id": "MKqoR6syJXdk"
      }
    },
    {
      "cell_type": "code",
      "source": [
        "import os\n",
        "import numpy as np\n",
        "from sklearn.model_selection import train_test_split\n",
        "from sklearn.metrics import roc_curve, auc\n",
        "from sklearn.preprocessing import label_binarize\n",
        "import matplotlib.pyplot as plt\n",
        "from tqdm import tqdm\n",
        "\n",
        "import tensorflow as tf\n",
        "from tensorflow.keras.models import Model\n",
        "from tensorflow.keras.layers import Dense, GlobalAveragePooling2D, Dropout, Conv2D, Input, Lambda\n",
        "from tensorflow.keras.optimizers import Adam\n",
        "from tensorflow.keras.callbacks import EarlyStopping, ModelCheckpoint\n",
        "from tensorflow.keras.utils import to_categorical\n",
        "from tensorflow.keras.applications.resnet import preprocess_input\n",
        "\n",
        "\n",
        "\n",
        "# Set random seed\n",
        "np.random.seed(42)\n",
        "tf.random.set_seed(42)"
      ],
      "metadata": {
        "trusted": true,
        "execution": {
          "iopub.status.busy": "2025-03-31T11:08:00.963209Z",
          "iopub.execute_input": "2025-03-31T11:08:00.963530Z",
          "iopub.status.idle": "2025-03-31T11:08:01.059380Z",
          "shell.execute_reply.started": "2025-03-31T11:08:00.963502Z",
          "shell.execute_reply": "2025-03-31T11:08:01.058328Z"
        },
        "id": "X3wIKT2DJXdl"
      },
      "outputs": [],
      "execution_count": null
    },
    {
      "cell_type": "markdown",
      "source": [
        "# **Configure GPU**"
      ],
      "metadata": {
        "id": "5oEcHvrNJXdn"
      }
    },
    {
      "cell_type": "code",
      "source": [
        "# Configure GPU\n",
        "gpus = tf.config.list_physical_devices('GPU')\n",
        "if gpus:\n",
        "    try:\n",
        "        for gpu in gpus:\n",
        "            tf.config.experimental.set_memory_growth(gpu, True)\n",
        "        logical_gpus = tf.config.list_logical_devices('GPU')\n",
        "        print(f\"{len(gpus)} Physical GPUs, {len(logical_gpus)} Logical GPUs\")\n",
        "    except RuntimeError as e:\n",
        "        print(e)\n",
        "else:\n",
        "    print(\"No GPU available, using CPU\")\n"
      ],
      "metadata": {
        "trusted": true,
        "execution": {
          "iopub.status.busy": "2025-03-31T11:08:01.674706Z",
          "iopub.execute_input": "2025-03-31T11:08:01.675012Z",
          "iopub.status.idle": "2025-03-31T11:08:01.701157Z",
          "shell.execute_reply.started": "2025-03-31T11:08:01.674988Z",
          "shell.execute_reply": "2025-03-31T11:08:01.700072Z"
        },
        "id": "9lSHp6aaJXdn",
        "outputId": "d6ceebbd-ccfe-4591-9aae-a14cb4232514"
      },
      "outputs": [
        {
          "name": "stdout",
          "text": "Physical devices cannot be modified after being initialized\n",
          "output_type": "stream"
        }
      ],
      "execution_count": null
    },
    {
      "cell_type": "markdown",
      "source": [
        "# **Load data**"
      ],
      "metadata": {
        "id": "Ycw5yF3VJXdo"
      }
    },
    {
      "cell_type": "code",
      "source": [
        "# Load data\n",
        "def load_data(folder_path):\n",
        "    classes = ['no', 'sphere', 'vort']\n",
        "    X = []\n",
        "    y = []\n",
        "\n",
        "    for class_idx, class_name in enumerate(classes):\n",
        "        class_path = os.path.join(folder_path, class_name)\n",
        "        files = [f for f in os.listdir(class_path) if f.endswith('.npy')]\n",
        "\n",
        "        for file in tqdm(files, desc=f'Loading {class_name} data'):\n",
        "            file_path = os.path.join(class_path, file)\n",
        "            data = np.load(file_path)\n",
        "\n",
        "            # Ensure shape is (150, 150, 1)\n",
        "            if data.shape == (1, 150, 150):\n",
        "                data = np.transpose(data, (1, 2, 0))\n",
        "            elif data.shape == (150, 150):\n",
        "                data = np.expand_dims(data, axis=-1)\n",
        "\n",
        "            X.append(data)\n",
        "            y.append(class_idx)\n",
        "\n",
        "    return np.array(X), np.array(y)\n",
        "\n",
        "# Load data\n",
        "print(\"Loading training data...\")\n",
        "X_train, y_train = load_data('/kaggle/input/gsoc-data/dataset/train')\n",
        "print(\"\\nLoading validation data...\")\n",
        "X_val, y_val = load_data('/kaggle/input/gsoc-data/dataset/val')\n",
        "\n",
        "# Split data\n",
        "X_train, X_test, y_train, y_test = train_test_split(\n",
        "    X_train, y_train, test_size=0.1, random_state=42, stratify=y_train\n",
        ")\n",
        "\n",
        "# Convert labels\n",
        "num_classes = 3\n",
        "y_train_onehot = to_categorical(y_train, num_classes)\n",
        "y_test_onehot = to_categorical(y_test, num_classes)\n",
        "y_val_onehot = to_categorical(y_val, num_classes)"
      ],
      "metadata": {
        "trusted": true,
        "execution": {
          "iopub.status.busy": "2025-03-31T12:00:21.728736Z",
          "iopub.execute_input": "2025-03-31T12:00:21.729113Z",
          "iopub.status.idle": "2025-03-31T12:03:20.840518Z",
          "shell.execute_reply.started": "2025-03-31T12:00:21.729080Z",
          "shell.execute_reply": "2025-03-31T12:03:20.839765Z"
        },
        "id": "6AdXJqD_JXdo",
        "outputId": "208fee64-388f-4557-dcf3-1a14abc3573e"
      },
      "outputs": [
        {
          "name": "stdout",
          "text": "Loading training data...\n",
          "output_type": "stream"
        },
        {
          "name": "stderr",
          "text": "Loading no data: 100%|██████████| 10000/10000 [01:07<00:00, 148.43it/s]\nLoading sphere data: 100%|██████████| 10000/10000 [00:30<00:00, 328.68it/s]\nLoading vort data: 100%|██████████| 10000/10000 [00:23<00:00, 428.83it/s]\n",
          "output_type": "stream"
        },
        {
          "name": "stdout",
          "text": "\nLoading validation data...\n",
          "output_type": "stream"
        },
        {
          "name": "stderr",
          "text": "Loading no data: 100%|██████████| 2500/2500 [00:16<00:00, 153.77it/s]\nLoading sphere data: 100%|██████████| 2500/2500 [00:15<00:00, 161.49it/s]\nLoading vort data: 100%|██████████| 2500/2500 [00:15<00:00, 164.73it/s]\n",
          "output_type": "stream"
        }
      ],
      "execution_count": null
    },
    {
      "cell_type": "markdown",
      "source": [
        "# **VGG16**"
      ],
      "metadata": {
        "id": "c3t2aAOfJXdp"
      }
    },
    {
      "cell_type": "code",
      "source": [
        "from tensorflow.keras.applications import VGG16\n",
        "from tensorflow.keras.applications.vgg16 import preprocess_input\n",
        "# Create model\n",
        "def create_vgg_model():\n",
        "    # Load base VGG16 without top layers\n",
        "    base_model = VGG16(\n",
        "        weights='imagenet',\n",
        "        include_top=False,\n",
        "        input_shape=(150, 150, 3)\n",
        "    )\n",
        "\n",
        "    # Freeze base model layers\n",
        "    base_model.trainable = False\n",
        "\n",
        "    # Create new model with single channel input\n",
        "    inputs = Input(shape=(150, 150, 1))\n",
        "\n",
        "    # Convert 1 channel to 3 channels by repeating\n",
        "    x = Lambda(lambda x: tf.repeat(x, 3, axis=-1))(inputs)\n",
        "\n",
        "    # Apply preprocessing for VGG (scale to 0-255 and apply VGG preprocessing)\n",
        "    x = Lambda(lambda x: preprocess_input(x * 255))(x)\n",
        "\n",
        "    # Pass through VGG\n",
        "    x = base_model(x)\n",
        "    x = GlobalAveragePooling2D()(x)\n",
        "    x = Dropout(0.5)(x)\n",
        "    outputs = Dense(num_classes, activation='softmax')(x)\n",
        "\n",
        "    model = Model(inputs, outputs)\n",
        "\n",
        "    model.compile(\n",
        "        optimizer=Adam(learning_rate=0.001),\n",
        "        loss='categorical_crossentropy',\n",
        "        metrics=['accuracy']\n",
        "    )\n",
        "\n",
        "    return model, base_model\n",
        "\n",
        "# Create model\n",
        "model, base_model = create_vgg_model()\n",
        "model.summary()\n"
      ],
      "metadata": {
        "trusted": true,
        "execution": {
          "iopub.status.busy": "2025-03-31T12:03:20.842665Z",
          "iopub.execute_input": "2025-03-31T12:03:20.842959Z",
          "iopub.status.idle": "2025-03-31T12:03:21.580573Z",
          "shell.execute_reply.started": "2025-03-31T12:03:20.842937Z",
          "shell.execute_reply": "2025-03-31T12:03:21.579930Z"
        },
        "id": "HX25obuZJXdp",
        "outputId": "35d52d49-36a8-4720-8026-7e79dfb5432b"
      },
      "outputs": [
        {
          "output_type": "display_data",
          "data": {
            "text/plain": "\u001b[1mModel: \"functional_11\"\u001b[0m\n",
            "text/html": "<pre style=\"white-space:pre;overflow-x:auto;line-height:normal;font-family:Menlo,'DejaVu Sans Mono',consolas,'Courier New',monospace\"><span style=\"font-weight: bold\">Model: \"functional_11\"</span>\n</pre>\n"
          },
          "metadata": {}
        },
        {
          "output_type": "display_data",
          "data": {
            "text/plain": "┏━━━━━━━━━━━━━━━━━━━━━━━━━━━━━━━━━━━━━━┳━━━━━━━━━━━━━━━━━━━━━━━━━━━━━┳━━━━━━━━━━━━━━━━━┓\n┃\u001b[1m \u001b[0m\u001b[1mLayer (type)                        \u001b[0m\u001b[1m \u001b[0m┃\u001b[1m \u001b[0m\u001b[1mOutput Shape               \u001b[0m\u001b[1m \u001b[0m┃\u001b[1m \u001b[0m\u001b[1m        Param #\u001b[0m\u001b[1m \u001b[0m┃\n┡━━━━━━━━━━━━━━━━━━━━━━━━━━━━━━━━━━━━━━╇━━━━━━━━━━━━━━━━━━━━━━━━━━━━━╇━━━━━━━━━━━━━━━━━┩\n│ input_layer_20 (\u001b[38;5;33mInputLayer\u001b[0m)          │ (\u001b[38;5;45mNone\u001b[0m, \u001b[38;5;34m150\u001b[0m, \u001b[38;5;34m150\u001b[0m, \u001b[38;5;34m1\u001b[0m)         │               \u001b[38;5;34m0\u001b[0m │\n├──────────────────────────────────────┼─────────────────────────────┼─────────────────┤\n│ lambda_15 (\u001b[38;5;33mLambda\u001b[0m)                   │ (\u001b[38;5;45mNone\u001b[0m, \u001b[38;5;34m150\u001b[0m, \u001b[38;5;34m150\u001b[0m, \u001b[38;5;34m3\u001b[0m)         │               \u001b[38;5;34m0\u001b[0m │\n├──────────────────────────────────────┼─────────────────────────────┼─────────────────┤\n│ lambda_16 (\u001b[38;5;33mLambda\u001b[0m)                   │ (\u001b[38;5;45mNone\u001b[0m, \u001b[38;5;34m150\u001b[0m, \u001b[38;5;34m150\u001b[0m, \u001b[38;5;34m3\u001b[0m)         │               \u001b[38;5;34m0\u001b[0m │\n├──────────────────────────────────────┼─────────────────────────────┼─────────────────┤\n│ vgg16 (\u001b[38;5;33mFunctional\u001b[0m)                   │ (\u001b[38;5;45mNone\u001b[0m, \u001b[38;5;34m4\u001b[0m, \u001b[38;5;34m4\u001b[0m, \u001b[38;5;34m512\u001b[0m)           │      \u001b[38;5;34m14,714,688\u001b[0m │\n├──────────────────────────────────────┼─────────────────────────────┼─────────────────┤\n│ global_average_pooling2d_7           │ (\u001b[38;5;45mNone\u001b[0m, \u001b[38;5;34m512\u001b[0m)                 │               \u001b[38;5;34m0\u001b[0m │\n│ (\u001b[38;5;33mGlobalAveragePooling2D\u001b[0m)             │                             │                 │\n├──────────────────────────────────────┼─────────────────────────────┼─────────────────┤\n│ dropout_47 (\u001b[38;5;33mDropout\u001b[0m)                 │ (\u001b[38;5;45mNone\u001b[0m, \u001b[38;5;34m512\u001b[0m)                 │               \u001b[38;5;34m0\u001b[0m │\n├──────────────────────────────────────┼─────────────────────────────┼─────────────────┤\n│ dense_43 (\u001b[38;5;33mDense\u001b[0m)                     │ (\u001b[38;5;45mNone\u001b[0m, \u001b[38;5;34m3\u001b[0m)                   │           \u001b[38;5;34m1,539\u001b[0m │\n└──────────────────────────────────────┴─────────────────────────────┴─────────────────┘\n",
            "text/html": "<pre style=\"white-space:pre;overflow-x:auto;line-height:normal;font-family:Menlo,'DejaVu Sans Mono',consolas,'Courier New',monospace\">┏━━━━━━━━━━━━━━━━━━━━━━━━━━━━━━━━━━━━━━┳━━━━━━━━━━━━━━━━━━━━━━━━━━━━━┳━━━━━━━━━━━━━━━━━┓\n┃<span style=\"font-weight: bold\"> Layer (type)                         </span>┃<span style=\"font-weight: bold\"> Output Shape                </span>┃<span style=\"font-weight: bold\">         Param # </span>┃\n┡━━━━━━━━━━━━━━━━━━━━━━━━━━━━━━━━━━━━━━╇━━━━━━━━━━━━━━━━━━━━━━━━━━━━━╇━━━━━━━━━━━━━━━━━┩\n│ input_layer_20 (<span style=\"color: #0087ff; text-decoration-color: #0087ff\">InputLayer</span>)          │ (<span style=\"color: #00d7ff; text-decoration-color: #00d7ff\">None</span>, <span style=\"color: #00af00; text-decoration-color: #00af00\">150</span>, <span style=\"color: #00af00; text-decoration-color: #00af00\">150</span>, <span style=\"color: #00af00; text-decoration-color: #00af00\">1</span>)         │               <span style=\"color: #00af00; text-decoration-color: #00af00\">0</span> │\n├──────────────────────────────────────┼─────────────────────────────┼─────────────────┤\n│ lambda_15 (<span style=\"color: #0087ff; text-decoration-color: #0087ff\">Lambda</span>)                   │ (<span style=\"color: #00d7ff; text-decoration-color: #00d7ff\">None</span>, <span style=\"color: #00af00; text-decoration-color: #00af00\">150</span>, <span style=\"color: #00af00; text-decoration-color: #00af00\">150</span>, <span style=\"color: #00af00; text-decoration-color: #00af00\">3</span>)         │               <span style=\"color: #00af00; text-decoration-color: #00af00\">0</span> │\n├──────────────────────────────────────┼─────────────────────────────┼─────────────────┤\n│ lambda_16 (<span style=\"color: #0087ff; text-decoration-color: #0087ff\">Lambda</span>)                   │ (<span style=\"color: #00d7ff; text-decoration-color: #00d7ff\">None</span>, <span style=\"color: #00af00; text-decoration-color: #00af00\">150</span>, <span style=\"color: #00af00; text-decoration-color: #00af00\">150</span>, <span style=\"color: #00af00; text-decoration-color: #00af00\">3</span>)         │               <span style=\"color: #00af00; text-decoration-color: #00af00\">0</span> │\n├──────────────────────────────────────┼─────────────────────────────┼─────────────────┤\n│ vgg16 (<span style=\"color: #0087ff; text-decoration-color: #0087ff\">Functional</span>)                   │ (<span style=\"color: #00d7ff; text-decoration-color: #00d7ff\">None</span>, <span style=\"color: #00af00; text-decoration-color: #00af00\">4</span>, <span style=\"color: #00af00; text-decoration-color: #00af00\">4</span>, <span style=\"color: #00af00; text-decoration-color: #00af00\">512</span>)           │      <span style=\"color: #00af00; text-decoration-color: #00af00\">14,714,688</span> │\n├──────────────────────────────────────┼─────────────────────────────┼─────────────────┤\n│ global_average_pooling2d_7           │ (<span style=\"color: #00d7ff; text-decoration-color: #00d7ff\">None</span>, <span style=\"color: #00af00; text-decoration-color: #00af00\">512</span>)                 │               <span style=\"color: #00af00; text-decoration-color: #00af00\">0</span> │\n│ (<span style=\"color: #0087ff; text-decoration-color: #0087ff\">GlobalAveragePooling2D</span>)             │                             │                 │\n├──────────────────────────────────────┼─────────────────────────────┼─────────────────┤\n│ dropout_47 (<span style=\"color: #0087ff; text-decoration-color: #0087ff\">Dropout</span>)                 │ (<span style=\"color: #00d7ff; text-decoration-color: #00d7ff\">None</span>, <span style=\"color: #00af00; text-decoration-color: #00af00\">512</span>)                 │               <span style=\"color: #00af00; text-decoration-color: #00af00\">0</span> │\n├──────────────────────────────────────┼─────────────────────────────┼─────────────────┤\n│ dense_43 (<span style=\"color: #0087ff; text-decoration-color: #0087ff\">Dense</span>)                     │ (<span style=\"color: #00d7ff; text-decoration-color: #00d7ff\">None</span>, <span style=\"color: #00af00; text-decoration-color: #00af00\">3</span>)                   │           <span style=\"color: #00af00; text-decoration-color: #00af00\">1,539</span> │\n└──────────────────────────────────────┴─────────────────────────────┴─────────────────┘\n</pre>\n"
          },
          "metadata": {}
        },
        {
          "output_type": "display_data",
          "data": {
            "text/plain": "\u001b[1m Total params: \u001b[0m\u001b[38;5;34m14,716,227\u001b[0m (56.14 MB)\n",
            "text/html": "<pre style=\"white-space:pre;overflow-x:auto;line-height:normal;font-family:Menlo,'DejaVu Sans Mono',consolas,'Courier New',monospace\"><span style=\"font-weight: bold\"> Total params: </span><span style=\"color: #00af00; text-decoration-color: #00af00\">14,716,227</span> (56.14 MB)\n</pre>\n"
          },
          "metadata": {}
        },
        {
          "output_type": "display_data",
          "data": {
            "text/plain": "\u001b[1m Trainable params: \u001b[0m\u001b[38;5;34m1,539\u001b[0m (6.01 KB)\n",
            "text/html": "<pre style=\"white-space:pre;overflow-x:auto;line-height:normal;font-family:Menlo,'DejaVu Sans Mono',consolas,'Courier New',monospace\"><span style=\"font-weight: bold\"> Trainable params: </span><span style=\"color: #00af00; text-decoration-color: #00af00\">1,539</span> (6.01 KB)\n</pre>\n"
          },
          "metadata": {}
        },
        {
          "output_type": "display_data",
          "data": {
            "text/plain": "\u001b[1m Non-trainable params: \u001b[0m\u001b[38;5;34m14,714,688\u001b[0m (56.13 MB)\n",
            "text/html": "<pre style=\"white-space:pre;overflow-x:auto;line-height:normal;font-family:Menlo,'DejaVu Sans Mono',consolas,'Courier New',monospace\"><span style=\"font-weight: bold\"> Non-trainable params: </span><span style=\"color: #00af00; text-decoration-color: #00af00\">14,714,688</span> (56.13 MB)\n</pre>\n"
          },
          "metadata": {}
        }
      ],
      "execution_count": null
    },
    {
      "cell_type": "markdown",
      "source": [
        "# **Defining Early Stopping**"
      ],
      "metadata": {
        "id": "LJBSMmBxJXdp"
      }
    },
    {
      "cell_type": "code",
      "source": [
        "#Callbacks\n",
        "early_stopping = EarlyStopping(\n",
        "    monitor='val_loss',\n",
        "    patience=5,\n",
        "    restore_best_weights=True\n",
        ")\n",
        "\n",
        "checkpoint = ModelCheckpoint(\n",
        "    'best_VGG16__model.keras',\n",
        "    monitor='val_accuracy',\n",
        "    save_best_only=True,\n",
        "    mode='max'\n",
        ")"
      ],
      "metadata": {
        "trusted": true,
        "execution": {
          "iopub.status.busy": "2025-03-31T12:03:33.450409Z",
          "iopub.execute_input": "2025-03-31T12:03:33.450707Z",
          "iopub.status.idle": "2025-03-31T12:03:33.454306Z",
          "shell.execute_reply.started": "2025-03-31T12:03:33.450684Z",
          "shell.execute_reply": "2025-03-31T12:03:33.453569Z"
        },
        "id": "-wI3OqdnJXdq"
      },
      "outputs": [],
      "execution_count": null
    },
    {
      "cell_type": "markdown",
      "source": [
        "# **Progress Monitor**"
      ],
      "metadata": {
        "id": "5_nDV-vLJXdq"
      }
    },
    {
      "cell_type": "code",
      "source": [
        "# Training progress bar\n",
        "class TQDMCallback(tf.keras.callbacks.Callback):\n",
        "    def __init__(self, total_epochs):\n",
        "        self.total_epochs = total_epochs\n",
        "        self.epoch_pbar = None\n",
        "\n",
        "    def on_train_begin(self, logs=None):\n",
        "        self.epoch_pbar = tqdm(total=self.total_epochs, desc='Training Progress')\n",
        "\n",
        "    def on_epoch_end(self, epoch, logs=None):\n",
        "        self.epoch_pbar.update(1)\n",
        "        self.epoch_pbar.set_postfix({\n",
        "            'loss': f\"{logs['loss']:.4f}\",\n",
        "            'val_loss': f\"{logs['val_loss']:.4f}\",\n",
        "            'acc': f\"{logs['accuracy']:.4f}\",\n",
        "            'val_acc': f\"{logs['val_accuracy']:.4f}\"\n",
        "        })\n",
        "\n",
        "    def on_train_end(self, logs=None):\n",
        "        self.epoch_pbar.close()\n",
        "\n"
      ],
      "metadata": {
        "trusted": true,
        "execution": {
          "iopub.status.busy": "2025-03-31T11:46:54.750820Z",
          "iopub.execute_input": "2025-03-31T11:46:54.751135Z",
          "iopub.status.idle": "2025-03-31T11:46:54.756083Z",
          "shell.execute_reply.started": "2025-03-31T11:46:54.751109Z",
          "shell.execute_reply": "2025-03-31T11:46:54.755346Z"
        },
        "id": "y6c6Jz4IJXdq"
      },
      "outputs": [],
      "execution_count": null
    },
    {
      "cell_type": "markdown",
      "source": [
        "# **Training Model**"
      ],
      "metadata": {
        "id": "TIH0Gh5DJXdq"
      }
    },
    {
      "cell_type": "code",
      "source": [
        "# First training phase\n",
        "epochs = 20\n",
        "batch_size = 32  # Reduced batch size to prevent memory issues\n",
        "\n",
        "print(\"\\nFirst stage: Training top layers...\")\n",
        "history = model.fit(\n",
        "    x=X_train,\n",
        "    y=y_train_onehot,\n",
        "    validation_data=(X_val, y_val_onehot),\n",
        "    epochs=epochs,\n",
        "    batch_size=batch_size,\n",
        "    callbacks=[early_stopping, checkpoint, TQDMCallback(epochs)],\n",
        "    verbose=0\n",
        ")\n",
        "\n",
        "# Second phase: fine-tuning\n",
        "print(\"\\nSecond stage: Fine-tuning some base layers...\")\n",
        "base_model.trainable = True\n",
        "fine_tune_at = 15\n",
        "for layer in base_model.layers[:fine_tune_at]:\n",
        "    layer.trainable = False\n",
        "\n",
        "model.compile(\n",
        "    optimizer=Adam(learning_rate=1e-5),\n",
        "    loss='categorical_crossentropy',\n",
        "    metrics=['accuracy']\n",
        ")\n",
        "\n",
        "epochs_fine_tune = 10\n",
        "history_fine = model.fit(\n",
        "    x=X_train,\n",
        "    y=y_train_onehot,\n",
        "    validation_data=(X_val, y_val_onehot),\n",
        "    epochs=epochs_fine_tune,\n",
        "    batch_size=batch_size,\n",
        "    callbacks=[checkpoint, TQDMCallback(epochs_fine_tune)],\n",
        "    verbose=0\n",
        ")\n"
      ],
      "metadata": {
        "trusted": true,
        "execution": {
          "iopub.status.busy": "2025-03-31T12:03:37.680494Z",
          "iopub.execute_input": "2025-03-31T12:03:37.680783Z",
          "iopub.status.idle": "2025-03-31T12:18:49.309023Z",
          "shell.execute_reply.started": "2025-03-31T12:03:37.680762Z",
          "shell.execute_reply": "2025-03-31T12:18:49.308271Z"
        },
        "id": "kbtgxQZgJXdr",
        "outputId": "4612ee2c-7050-4647-f9f1-afd4f633f86a"
      },
      "outputs": [
        {
          "name": "stdout",
          "text": "\nFirst stage: Training top layers...\n",
          "output_type": "stream"
        },
        {
          "name": "stderr",
          "text": "Training Progress:  65%|██████▌   | 13/20 [07:36<04:05, 35.09s/it, loss=1.1406, val_loss=1.0815, acc=0.3644, val_acc=0.3903]\n",
          "output_type": "stream"
        },
        {
          "name": "stdout",
          "text": "\nSecond stage: Fine-tuning some base layers...\n",
          "output_type": "stream"
        },
        {
          "name": "stderr",
          "text": "Training Progress: 100%|██████████| 10/10 [07:22<00:00, 44.20s/it, loss=0.7882, val_loss=0.8118, acc=0.6278, val_acc=0.6051]\n",
          "output_type": "stream"
        }
      ],
      "execution_count": null
    },
    {
      "cell_type": "markdown",
      "source": [
        "# **Evaluation**"
      ],
      "metadata": {
        "id": "0TLfXQbfJXdr"
      }
    },
    {
      "cell_type": "code",
      "source": [
        "# Predict probabilities for ROC curve\n",
        "y_pred_prob = model.predict(X_test, batch_size=batch_size)\n",
        "\n",
        "# Compute ROC curve and AUC for each class\n",
        "fpr = dict()\n",
        "tpr = dict()\n",
        "roc_auc = dict()\n",
        "\n",
        "y_test_bin = label_binarize(y_test, classes=[0, 1, 2])\n",
        "\n",
        "for i in range(num_classes):\n",
        "    fpr[i], tpr[i], _ = roc_curve(y_test_bin[:, i], y_pred_prob[:, i])\n",
        "    roc_auc[i] = auc(fpr[i], tpr[i])\n",
        "\n",
        "# Plot ROC curves\n",
        "plt.figure(figsize=(10, 8))\n",
        "colors = ['blue', 'red', 'green']\n",
        "class_names = ['No Substructure', 'Subhalo (Sphere)', 'Vortex']\n",
        "\n",
        "for i, color, name in zip(range(num_classes), colors, class_names):\n",
        "    plt.plot(fpr[i], tpr[i], color=color, lw=2,\n",
        "             label=f'{name} (AUC = {roc_auc[i]:.2f})')\n",
        "\n",
        "plt.plot([0, 1], [0, 1], 'k--', lw=2)\n",
        "plt.xlim([0.0, 1.0])\n",
        "plt.ylim([0.0, 1.05])\n",
        "plt.xlabel('False Positive Rate', fontsize=12)\n",
        "plt.ylabel('True Positive Rate', fontsize=12)\n",
        "plt.title('ROC Curves for Lens Classification (VGG16)', fontsize=14)\n",
        "plt.legend(loc=\"lower right\", fontsize=12)\n",
        "plt.grid(True)\n",
        "plt.show()"
      ],
      "metadata": {
        "trusted": true,
        "execution": {
          "iopub.status.busy": "2025-03-31T12:19:12.853102Z",
          "iopub.execute_input": "2025-03-31T12:19:12.853454Z",
          "iopub.status.idle": "2025-03-31T12:19:16.946280Z",
          "shell.execute_reply.started": "2025-03-31T12:19:12.853425Z",
          "shell.execute_reply": "2025-03-31T12:19:16.945462Z"
        },
        "id": "48vij2DLJXdr",
        "outputId": "c1444595-0d20-4a44-e50c-ee6e7bd6c01f"
      },
      "outputs": [
        {
          "name": "stdout",
          "text": "\u001b[1m94/94\u001b[0m \u001b[32m━━━━━━━━━━━━━━━━━━━━\u001b[0m\u001b[37m\u001b[0m \u001b[1m4s\u001b[0m 34ms/step\n",
          "output_type": "stream"
        },
        {
          "output_type": "display_data",
          "data": {
            "text/plain": "<Figure size 1000x800 with 1 Axes>",
            "image/png": "[encoded data removed]"
          },
          "metadata": {}
        }
      ],
      "execution_count": null
    },
    {
      "cell_type": "markdown",
      "source": [
        "# **Save final model**"
      ],
      "metadata": {
        "id": "BpCJPf5IJXdr"
      }
    },
    {
      "cell_type": "code",
      "source": [
        "# Save final model\n",
        "model.save('VGG16_.keras')\n",
        "print(\"Model saved as 'VGG16_.keras'\")"
      ],
      "metadata": {
        "trusted": true,
        "execution": {
          "iopub.status.busy": "2025-03-31T12:19:25.749865Z",
          "iopub.execute_input": "2025-03-31T12:19:25.750199Z",
          "iopub.status.idle": "2025-03-31T12:19:26.076846Z",
          "shell.execute_reply.started": "2025-03-31T12:19:25.750170Z",
          "shell.execute_reply": "2025-03-31T12:19:26.076105Z"
        },
        "id": "Beigi1J3JXds",
        "outputId": "06ee25cc-348e-4d78-975f-ca6f53b5ab49"
      },
      "outputs": [
        {
          "name": "stdout",
          "text": "Model saved as 'VGG16_.keras'\n",
          "output_type": "stream"
        }
      ],
      "execution_count": null
    },
    {
      "cell_type": "code",
      "source": [],
      "metadata": {
        "trusted": true,
        "id": "088gbvPzJXds"
      },
      "outputs": [],
      "execution_count": null
    }
  ]
}